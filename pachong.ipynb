{
 "cells": [
  {
   "cell_type": "code",
   "execution_count": 1,
   "id": "34b37561-4418-4764-99e6-63a62eccc619",
   "metadata": {},
   "outputs": [
    {
     "name": "stdout",
     "output_type": "stream",
     "text": [
      "關鍵字 '臺中' 在網頁中出現了 4 次。\n"
     ]
    }
   ],
   "source": [
    "# BS4_NTCU\n",
    "# 導入所需的庫\n",
    "import requests  # 用於發送HTTP請求\n",
    "from bs4 import BeautifulSoup  # 用於解析HTML\n",
    "\n",
    "# 設置目標網頁的URL\n",
    "url = 'https://2023ntcu.ntcu.edu.tw/'\n",
    "# 發送GET請求獲取網頁內容\n",
    "headers = {'User-Agent': 'Mozilla/5.0 (Windows NT 10.0; Win64; x64) AppleWebKit/537.36 (KHTML, like Gecko) Chrome/91.0.4472.124 Safari/537.36'}\n",
    "# 使用requests.get()方法發送請求並獲取響應\n",
    "response = requests.get(url, headers=headers)\n",
    "# 設置響應的編碼為UTF-8，確保正確處理中文\n",
    "response.encoding = 'utf-8'\n",
    "\n",
    "# 使用BeautifulSoup解析HTML內容\n",
    "soup = BeautifulSoup(response.text, 'html.parser')\n",
    "# 定義關鍵字\n",
    "keyword = \"臺中\"  # 您可以根據需要更改關鍵字\n",
    "\n",
    "# 在網頁中搜尋關鍵字\n",
    "keyword_count = soup.text.count(keyword)\n",
    "\n",
    "# 印出關鍵字出現的次數\n",
    "print(f\"關鍵字 '{keyword}' 在網頁中出現了 {keyword_count} 次。\")"
   ]
  },
  {
   "cell_type": "code",
   "execution_count": 6,
   "id": "a79fe95a-7aa1-465d-9a53-c5361b3f700b",
   "metadata": {},
   "outputs": [
    {
     "name": "stdout",
     "output_type": "stream",
     "text": [
      "臺中 found 6 times\n"
     ]
    }
   ],
   "source": [
    "import requests\n",
    "url = 'https://2023ntcu.ntcu.edu.tw/'\n",
    "html = requests.get(url)\n",
    "html.encoding='utf-8'\n",
    "htmllist=html.text.splitlines()\n",
    "\n",
    "keyword='臺中'\n",
    "count=0\n",
    "\n",
    "for row in htmllist:\n",
    "    if keyword in row:\n",
    "        count+=1\n",
    "\n",
    "print(f'{keyword} found {count} times')"
   ]
  }
 ],
 "metadata": {
  "kernelspec": {
   "display_name": "Python 3 (ipykernel)",
   "language": "python",
   "name": "python3"
  },
  "language_info": {
   "codemirror_mode": {
    "name": "ipython",
    "version": 3
   },
   "file_extension": ".py",
   "mimetype": "text/x-python",
   "name": "python",
   "nbconvert_exporter": "python",
   "pygments_lexer": "ipython3",
   "version": "3.11.7"
  }
 },
 "nbformat": 4,
 "nbformat_minor": 5
}
